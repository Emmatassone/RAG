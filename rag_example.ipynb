{
 "cells": [
  {
   "cell_type": "markdown",
   "id": "49befbdb-5d4b-45c6-87f4-494a6bbad2b0",
   "metadata": {},
   "source": [
    "# Documents processing"
   ]
  },
  {
   "cell_type": "code",
   "execution_count": 11,
   "id": "25429689-ca78-4296-8204-6434db355550",
   "metadata": {
    "tags": []
   },
   "outputs": [
    {
     "name": "stdout",
     "output_type": "stream",
     "text": [
      ",,,ID,Owner,Holder,Hydrogen Type,Asset State,Quantity\n",
      "0,producer, consumer,producer, transporter, consumer,green,utilized,111.0\n",
      "1,producer, consumer,producer, transporter,pink,H2,112,\n",
      "2,producer, consumer,producer, transporter, consumer,yellow,H2,100.0\n",
      "\n"
     ]
    }
   ],
   "source": [
    "import pandas as pd\n",
    "\n",
    "def csv_to_string(filepath):\n",
    "    df = pd.read_csv(filepath)\n",
    "    return df.to_csv(index=True)\n",
    "\n",
    "csv_string = csv_to_string('data.csv')\n",
    "print(csv_string)"
   ]
  },
  {
   "cell_type": "code",
   "execution_count": 2,
   "id": "ec811129-0d46-41d4-8f5a-f78ad87852c6",
   "metadata": {},
   "outputs": [],
   "source": [
    "corpus_of_documents = [\n",
    "        # \"What is green hydrogen?\",\n",
    "        \"Green hydrogen is hydrogen gas produced through renewable energy sources, like wind or solar power, by using a process called electrolysis. This method splits water into hydrogen and oxygen without generating carbon emissions, making it environmentally friendly.\",\n",
    "#       \"What is blockchain, and how does it work?\",\n",
    "        \"Blockchain is a digital ledger technology that stores information across a distributed network of computers. It is secure, transparent, and cannot be easily altered. Each transaction on a blockchain is recorded in blocks and linked (or 'chained') to previous transactions, ensuring a clear and tamper-proof history.\",\n",
    "#       \"Why is blockchain used to trace green hydrogen?\",\n",
    "        \"Blockchain provides a transparent and tamper-proof way to track the production and distribution of green hydrogen. It ensures that every step in the supply chain, from production to delivery, is recorded, giving consumers and regulators confidence in the hydrogen’s green credentials.\",\n",
    "#       \"How does this blockchain contract trace green hydrogen?\",\n",
    "        \"The smart contract on the blockchain records key information about each stage of green hydrogen production and distribution, such as: the source of renewable energy used for production, the quantity of hydrogen produced, and the locations and companies involved in transportation and storage. This data is stored securely and can be verified by anyone, ensuring transparency in the hydrogen supply chain.\",\n",
    "#       \"What is a smart contract?\",\n",
    "        \"A smart contract is a self-executing program on the blockchain that automatically enforces agreements once the predetermined conditions are met. For tracing green hydrogen, the contract ensures that data about each production stage is securely recorded without needing a middleman.\",\n",
    "#       \"How can I trust the data on the blockchain?\",\n",
    "        \"Blockchain ensures data integrity by making it immutable (unchangeable). Once a transaction is recorded, it cannot be altered without the consensus of the entire network, making it nearly impossible to falsify information.\",\n",
    "#       \"How can I access the blockchain to trace green hydrogen?\",\n",
    "        \"You can access the blockchain using a blockchain explorer, which allows you to see all transactions related to green hydrogen. The blockchain explorer for Polygon, for instance, provides an interface to view the production and distribution history in real time.\",\n",
    "#       \"What is Polygon, and why is it used for this contract?\",\n",
    "        \"Polygon is a blockchain network designed to be faster and cheaper than other popular blockchains like Ethereum. It allows us to deploy smart contracts and track green hydrogen in a cost-efficient and scalable way, without compromising on security.\",\n",
    "#       \"Do I need to know about blockchain to use this system?\",\n",
    "        \"No, you don’t need to understand the technical details of blockchain to use the system. The contract’s functionality is designed to be user-friendly, providing an easy way to verify the sustainability of green hydrogen without requiring blockchain knowledge.\",\n",
    "#       \"How does using blockchain benefit the environment?\",\n",
    "        \"By using blockchain, we ensure that the production of green hydrogen is transparent, encouraging accountability and reducing fraud in the sustainability claims. This helps promote genuine green energy initiatives, contributing to the fight against climate change.\"\n",
    "]"
   ]
  },
  {
   "cell_type": "code",
   "execution_count": 19,
   "id": "13c911f0-45ee-4275-a907-2547a1af8da9",
   "metadata": {
    "tags": []
   },
   "outputs": [],
   "source": [
    "import json\n",
    "\n",
    "def save_dict_to_json(dictionary, filename):\n",
    "    with open(filename, 'w') as f:\n",
    "        json.dump(dictionary, f)\n",
    "\n",
    "my_dict = {'Info': corpus_of_documents}\n",
    "save_dict_to_json(my_dict, 'blockchain_information.json')"
   ]
  },
  {
   "cell_type": "code",
   "execution_count": 21,
   "id": "90a599d9-4729-4cc8-b647-add23a6ef62b",
   "metadata": {
    "tags": []
   },
   "outputs": [
    {
     "name": "stdout",
     "output_type": "stream",
     "text": [
      "['Green hydrogen is hydrogen gas produced through renewable energy sources, like wind or solar power, by using a process called electrolysis. This method splits water into hydrogen and oxygen without generating carbon emissions, making it environmentally friendly.', \"Blockchain is a digital ledger technology that stores information across a distributed network of computers. It is secure, transparent, and cannot be easily altered. Each transaction on a blockchain is recorded in blocks and linked (or 'chained') to previous transactions, ensuring a clear and tamper-proof history.\", 'Blockchain provides a transparent and tamper-proof way to track the production and distribution of green hydrogen. It ensures that every step in the supply chain, from production to delivery, is recorded, giving consumers and regulators confidence in the hydrogen’s green credentials.', 'The smart contract on the blockchain records key information about each stage of green hydrogen production and distribution, such as: the source of renewable energy used for production, the quantity of hydrogen produced, and the locations and companies involved in transportation and storage. This data is stored securely and can be verified by anyone, ensuring transparency in the hydrogen supply chain.', 'A smart contract is a self-executing program on the blockchain that automatically enforces agreements once the predetermined conditions are met. For tracing green hydrogen, the contract ensures that data about each production stage is securely recorded without needing a middleman.', 'Blockchain ensures data integrity by making it immutable (unchangeable). Once a transaction is recorded, it cannot be altered without the consensus of the entire network, making it nearly impossible to falsify information.', 'You can access the blockchain using a blockchain explorer, which allows you to see all transactions related to green hydrogen. The blockchain explorer for Polygon, for instance, provides an interface to view the production and distribution history in real time.', 'Polygon is a blockchain network designed to be faster and cheaper than other popular blockchains like Ethereum. It allows us to deploy smart contracts and track green hydrogen in a cost-efficient and scalable way, without compromising on security.', 'No, you don’t need to understand the technical details of blockchain to use the system. The contract’s functionality is designed to be user-friendly, providing an easy way to verify the sustainability of green hydrogen without requiring blockchain knowledge.', 'By using blockchain, we ensure that the production of green hydrogen is transparent, encouraging accountability and reducing fraud in the sustainability claims. This helps promote genuine green energy initiatives, contributing to the fight against climate change.']\n"
     ]
    }
   ],
   "source": [
    "def load_dict_from_json(filename):\n",
    "    with open(filename, 'r') as f:\n",
    "        dictionary = json.load(f)\n",
    "    return dictionary\n",
    "\n",
    "my_dict = load_dict_from_json('blockchain_information.json')\n",
    "print(my_dict['Info'])"
   ]
  },
  {
   "cell_type": "markdown",
   "id": "70909aed-0c00-4571-b685-81a3a5b7aecd",
   "metadata": {},
   "source": [
    "# Rag without LLM"
   ]
  },
  {
   "cell_type": "markdown",
   "id": "55248e86-bf33-4008-a246-1f3454e8ce15",
   "metadata": {},
   "source": [
    "## Similarity measure"
   ]
  },
  {
   "cell_type": "code",
   "execution_count": 3,
   "id": "6e4e045d-010e-40b6-ad4b-0a7e2c4f2cd4",
   "metadata": {
    "tags": []
   },
   "outputs": [],
   "source": [
    "def jaccard_similarity(query, document):\n",
    "    query = query.lower().split(\" \")\n",
    "    document = document.lower().split(\" \")\n",
    "    intersection = set(query).intersection(set(document))\n",
    "    union = set(query).union(set(document))\n",
    "    return len(intersection)/len(union)\n",
    "\n",
    "def return_response(user_input, corpus_of_documents):\n",
    "    similarities = []\n",
    "    for doc in corpus_of_documents:\n",
    "        similarity = jaccard_similarity(user_input, doc)\n",
    "        similarities.append(similarity)\n",
    "    \n",
    "    index = similarities.index(max(similarities))\n",
    "    # print(similarities)\n",
    "    return corpus_of_documents[index]"
   ]
  },
  {
   "cell_type": "code",
   "execution_count": 49,
   "id": "2a265a01-2897-4e32-9587-2c9031156efa",
   "metadata": {
    "tags": []
   },
   "outputs": [
    {
     "data": {
      "text/plain": [
       "'You can access the blockchain using a blockchain explorer, which allows you to see all transactions related to green hydrogen. The blockchain explorer for Polygon, for instance, provides an interface to view the production and distribution history in real time.'"
      ]
     },
     "execution_count": 49,
     "metadata": {},
     "output_type": "execute_result"
    }
   ],
   "source": [
    "user_input = \"How to access the blockchain?\"\n",
    "return_response(user_input, corpus_of_documents)"
   ]
  },
  {
   "cell_type": "code",
   "execution_count": 50,
   "id": "6c1db2eb-5137-450a-b482-c06ce78e59a5",
   "metadata": {
    "tags": []
   },
   "outputs": [
    {
     "data": {
      "text/plain": [
       "'No, you don’t need to understand the technical details of blockchain to use the system. The contract’s functionality is designed to be user-friendly, providing an easy way to verify the sustainability of green hydrogen without requiring blockchain knowledge.'"
      ]
     },
     "execution_count": 50,
     "metadata": {},
     "output_type": "execute_result"
    }
   ],
   "source": [
    "user_input = \"Do I need to understand technical details of blockchain to use the system?\"\n",
    "return_response(user_input, corpus_of_documents)"
   ]
  },
  {
   "cell_type": "code",
   "execution_count": 51,
   "id": "645d3ea4-449c-465c-9a6b-a43bce9e258e",
   "metadata": {
    "tags": []
   },
   "outputs": [
    {
     "data": {
      "text/plain": [
       "'No, you don’t need to understand the technical details of blockchain to use the system. The contract’s functionality is designed to be user-friendly, providing an easy way to verify the sustainability of green hydrogen without requiring blockchain knowledge.'"
      ]
     },
     "execution_count": 51,
     "metadata": {},
     "output_type": "execute_result"
    }
   ],
   "source": [
    "user_input = \"Do I need to understand technical details of blockchain technology to use the frontend?\"\n",
    "return_response(user_input, corpus_of_documents)"
   ]
  },
  {
   "cell_type": "code",
   "execution_count": 53,
   "id": "a454fcfc-ade2-4b48-ad42-63378afd40d4",
   "metadata": {
    "tags": []
   },
   "outputs": [
    {
     "data": {
      "text/plain": [
       "'No, you don’t need to understand the technical details of blockchain to use the system. The contract’s functionality is designed to be user-friendly, providing an easy way to verify the sustainability of green hydrogen without requiring blockchain knowledge.'"
      ]
     },
     "execution_count": 53,
     "metadata": {},
     "output_type": "execute_result"
    }
   ],
   "source": [
    "user_input = \"what is green hydrogen?\"\n",
    "return_response(user_input, corpus_of_documents)"
   ]
  },
  {
   "cell_type": "markdown",
   "id": "2a05dcbe-c619-4785-a39f-c9c79eaf7d6c",
   "metadata": {
    "jp-MarkdownHeadingCollapsed": true,
    "tags": []
   },
   "source": [
    "## Rag with Local LLama (Ollama)"
   ]
  },
  {
   "cell_type": "code",
   "execution_count": 54,
   "id": "776355f0-6fd7-4849-b6ea-1acc41e0d7d8",
   "metadata": {
    "tags": []
   },
   "outputs": [],
   "source": [
    "import requests\n",
    "import json"
   ]
  },
  {
   "cell_type": "code",
   "execution_count": 56,
   "id": "a61ef949-c41a-42f1-97fd-da822d4e5306",
   "metadata": {
    "tags": []
   },
   "outputs": [],
   "source": [
    "\n",
    "# https://github.com/ollama/ollama/blob/main/docs/api.md\n",
    "prompt = \"\"\"\n",
    "You are a bot that explain how to use a blockchain traceability platform. You answer in very short sentences and do not include extra information.\n",
    "This is the recommended answer to the user input: {relevant_document}\n",
    "The user input is: {user_input}\n",
    "Compile a recommendation to the user based on the recommended answer and the user input.\n",
    "\"\"\""
   ]
  },
  {
   "cell_type": "code",
   "execution_count": 70,
   "id": "c946dd23-7ed0-4000-8da6-a163fb5c6457",
   "metadata": {
    "tags": []
   },
   "outputs": [],
   "source": [
    "def get_llama_answer(user_input,relevant_document, url = 'http://127.0.0.1:11434/api/generate'):\n",
    "    full_response = []\n",
    "    data = {\n",
    "        \"model\": \"llama3.2\",\n",
    "        \"prompt\": prompt.format(user_input=user_input, relevant_document=relevant_document)\n",
    "    }\n",
    "    headers = {'Content-Type': 'application/json'}\n",
    "    response = requests.post(url, data=json.dumps(data), headers=headers, stream=True)\n",
    "    try:\n",
    "        count = 0\n",
    "        for line in response.iter_lines():\n",
    "            if line:\n",
    "                decoded_line = json.loads(line.decode('utf-8'))\n",
    "\n",
    "                full_response.append(decoded_line['response'])\n",
    "    finally:\n",
    "        response.close()\n",
    "    print(''.join(full_response))"
   ]
  },
  {
   "cell_type": "code",
   "execution_count": 73,
   "id": "3dcf6c93-563d-4341-9af6-45bd17a5012d",
   "metadata": {
    "tags": []
   },
   "outputs": [
    {
     "name": "stdout",
     "output_type": "stream",
     "text": [
      "No, you don’t need to understand the technical details of blockchain to use the system. The contract’s functionality is designed to be user-friendly, providing an easy way to verify the sustainability of green hydrogen without requiring blockchain knowledge.\n",
      "----------RAG ANSWER------------\n",
      "Green hydrogen is a clean source of energy produced by electrolyzing water using renewable electricity.\n",
      "\n",
      "Recommendation:\n",
      "To use the blockchain traceability platform, start by creating an account and registering your product or company. Then, follow the guided tour to learn how to upload your data and track its journey. Once you're familiar with the system, explore the dashboard to verify the sustainability of green hydrogen produced by your company.\n"
     ]
    }
   ],
   "source": [
    "user_input = \"what is green hydrogen?\"\n",
    "relevant_document = return_response(user_input, corpus_of_documents)\n",
    "print(relevant_document)\n",
    "print('----------RAG ANSWER------------')\n",
    "get_llama_answer(user_input,relevant_document)"
   ]
  },
  {
   "cell_type": "code",
   "execution_count": 74,
   "id": "31b21334-0a28-4fc2-af7b-46dd244768e5",
   "metadata": {
    "tags": []
   },
   "outputs": [
    {
     "name": "stdout",
     "output_type": "stream",
     "text": [
      "You can access the blockchain using a blockchain explorer, which allows you to see all transactions related to green hydrogen. The blockchain explorer for Polygon, for instance, provides an interface to view the production and distribution history in real time.\n",
      "----------RAG ANSWER------------\n",
      "You can use a blockchain explorer to access the blockchain.\n"
     ]
    }
   ],
   "source": [
    "user_input = \"How to access the blockchain?\"\n",
    "relevant_document = return_response(user_input, corpus_of_documents)\n",
    "print(relevant_document)\n",
    "print('----------RAG ANSWER------------')\n",
    "get_llama_answer(user_input,relevant_document)"
   ]
  },
  {
   "cell_type": "markdown",
   "id": "6e35737b-653d-40a1-8fd0-43d203dfe358",
   "metadata": {},
   "source": [
    "# RAG with Groq"
   ]
  },
  {
   "cell_type": "code",
   "execution_count": 4,
   "id": "c3c10af3-ca3e-4aca-9719-6019550fe26f",
   "metadata": {
    "tags": []
   },
   "outputs": [],
   "source": [
    "import yaml\n",
    "with open('LLM_API_KEY.yml','r') as file:\n",
    "    credentials = yaml.safe_load(file)\n",
    "    \n",
    "GROQ_API_KEY = credentials['GROQ_API_KEY']"
   ]
  },
  {
   "cell_type": "code",
   "execution_count": 5,
   "id": "25c55584-0e66-4fde-b8b1-d6edeb498f6f",
   "metadata": {
    "tags": []
   },
   "outputs": [],
   "source": [
    "import os\n",
    "from groq import Groq\n",
    "\n",
    "client = Groq(\n",
    "    # This is the default and can be omitted\n",
    "    api_key = GROQ_API_KEY,\n",
    ")"
   ]
  },
  {
   "cell_type": "code",
   "execution_count": 13,
   "id": "7ae94fe4-4f72-46a0-9dc5-bdc05d506450",
   "metadata": {
    "tags": []
   },
   "outputs": [],
   "source": [
    "def get_groq_answer(user_input, relevant_document, table):\n",
    "    prompt = \"\"\"\n",
    "    You are a bot that explain how to use a blockchain traceability platform. You answer in very short sentences and do not include extra information.\n",
    "    This is the blockchain contract information: {table}\n",
    "    Holder column indicates who holds the corresponding hydrogen lot, Owner column indicates who owns the hydrogen lot and the other columns indicate properties of the hydrogen lot produced by the company.\n",
    "    This is the recommended answer to the user input: {relevant_document}\n",
    "    The user input is: {user_input}\n",
    "    Compile a recommendation to the user based on the recommended answer and the user input.\n",
    "    \"\"\"\n",
    "    chat_completion = client.chat.completions.create(\n",
    "        messages=[\n",
    "            {\n",
    "                \"role\": \"user\",\n",
    "                \"content\": prompt.format(user_input = user_input, relevant_document = relevant_document, table = table),\n",
    "            }\n",
    "        ],\n",
    "        model=\"llama3-8b-8192\",\n",
    "    )\n",
    "    print(chat_completion.choices[0].message.content)\n",
    "    return"
   ]
  },
  {
   "cell_type": "code",
   "execution_count": 15,
   "id": "473997b8-65d6-45eb-ac23-b2579cca2a3f",
   "metadata": {
    "tags": []
   },
   "outputs": [
    {
     "name": "stdout",
     "output_type": "stream",
     "text": [
      "You can access the blockchain using a blockchain explorer, which allows you to see all transactions related to green hydrogen. The blockchain explorer for Polygon, for instance, provides an interface to view the production and distribution history in real time.\n",
      "----------RAG ANSWER------------\n",
      "You can access the blockchain using a blockchain explorer.\n"
     ]
    }
   ],
   "source": [
    "\n",
    "user_input = \"How to access the blockchain?\"\n",
    "relevant_document = return_response(user_input, corpus_of_documents)\n",
    "\n",
    "\n",
    "print(relevant_document)\n",
    "print('----------RAG ANSWER------------')\n",
    "get_groq_answer(user_input,relevant_document,csv_string)"
   ]
  },
  {
   "cell_type": "code",
   "execution_count": 14,
   "id": "0533238e-46fa-4729-b4e2-e6036a324ffe",
   "metadata": {
    "tags": []
   },
   "outputs": [
    {
     "name": "stdout",
     "output_type": "stream",
     "text": [
      "A smart contract is a self-executing program on the blockchain that automatically enforces agreements once the predetermined conditions are met. For tracing green hydrogen, the contract ensures that data about each production stage is securely recorded without needing a middleman.\n",
      "----------RAG ANSWER------------\n",
      "Based on the contract information, only 1 contract has \"transporter\" as the Holder, so only 1 contract is being transported.\n"
     ]
    }
   ],
   "source": [
    "user_input = \"How many contracts are being transported?\"\n",
    "relevant_document = return_response(user_input, corpus_of_documents)\n",
    "\n",
    "\n",
    "print(relevant_document)\n",
    "print('----------RAG ANSWER------------')\n",
    "get_groq_answer(user_input,relevant_document,csv_string)"
   ]
  }
 ],
 "metadata": {
  "kernelspec": {
   "display_name": "Python 3 (ipykernel)",
   "language": "python",
   "name": "python3"
  },
  "language_info": {
   "codemirror_mode": {
    "name": "ipython",
    "version": 3
   },
   "file_extension": ".py",
   "mimetype": "text/x-python",
   "name": "python",
   "nbconvert_exporter": "python",
   "pygments_lexer": "ipython3",
   "version": "3.11.4"
  }
 },
 "nbformat": 4,
 "nbformat_minor": 5
}
